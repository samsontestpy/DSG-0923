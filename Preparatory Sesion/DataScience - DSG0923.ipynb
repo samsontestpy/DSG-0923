{
 "cells": [
  {
   "cell_type": "code",
   "execution_count": 1,
   "id": "e8768fc9",
   "metadata": {},
   "outputs": [
    {
     "name": "stdout",
     "output_type": "stream",
     "text": [
      "Hello data Science\n"
     ]
    }
   ],
   "source": [
    "print(\"Hello data Science\")"
   ]
  },
  {
   "cell_type": "code",
   "execution_count": 1,
   "id": "973d4dee",
   "metadata": {},
   "outputs": [
    {
     "name": "stdout",
     "output_type": "stream",
     "text": [
      "Samson\n"
     ]
    }
   ],
   "source": [
    "print(\"Samson\")"
   ]
  },
  {
   "cell_type": "code",
   "execution_count": 2,
   "id": "a8c94e80",
   "metadata": {},
   "outputs": [
    {
     "name": "stdout",
     "output_type": "stream",
     "text": [
      "Hello\n"
     ]
    }
   ],
   "source": [
    "print(\"Hello\")"
   ]
  }
 ],
 "metadata": {
  "kernelspec": {
   "display_name": "Python 3 (ipykernel)",
   "language": "python",
   "name": "python3"
  },
  "language_info": {
   "codemirror_mode": {
    "name": "ipython",
    "version": 3
   },
   "file_extension": ".py",
   "mimetype": "text/x-python",
   "name": "python",
   "nbconvert_exporter": "python",
   "pygments_lexer": "ipython3",
   "version": "3.11.5"
  }
 },
 "nbformat": 4,
 "nbformat_minor": 5
}
